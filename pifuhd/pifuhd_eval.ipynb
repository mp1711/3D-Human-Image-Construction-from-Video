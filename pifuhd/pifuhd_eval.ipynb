{
 "cells": [
  {
   "cell_type": "markdown",
   "id": "19b7d5ef",
   "metadata": {},
   "source": [
    "# Point to Surface distance"
   ]
  },
  {
   "cell_type": "code",
   "execution_count": 1,
   "id": "134f8d20",
   "metadata": {},
   "outputs": [
    {
     "name": "stdout",
     "output_type": "stream",
     "text": [
      "Point-to-Surface (P2S) Distance: 0.04563946491437865\n"
     ]
    }
   ],
   "source": [
    "import trimesh\n",
    "import numpy as np\n",
    "from scipy.spatial import cKDTree\n",
    "\n",
    "# Load meshes\n",
    "gt_mesh = trimesh.load('../assets/pifuhd_results/result_female-1-casual-frame_0016_real_B_512.obj')\n",
    "pred_mesh = trimesh.load('../assets/pifuhd_results/result_female-1-casual-frame_0016_fake_B_512.obj')\n",
    "\n",
    "# Sample points from predicted mesh\n",
    "pred_points = pred_mesh.sample(5000)\n",
    "\n",
    "# Build a KD-tree for the ground-truth mesh surface\n",
    "gt_points = gt_mesh.sample(10000)\n",
    "gt_tree = cKDTree(gt_points)\n",
    "\n",
    "# Find closest surface point in GT for each predicted point\n",
    "distances, _ = gt_tree.query(pred_points)\n",
    "p2s_distance = np.mean(distances)\n",
    "print(\"Point-to-Surface (P2S) Distance:\", p2s_distance)"
   ]
  },
  {
   "cell_type": "code",
   "execution_count": 6,
   "id": "257f1a91",
   "metadata": {},
   "outputs": [
    {
     "name": "stdout",
     "output_type": "stream",
     "text": [
      "AUC-CED: 0.01898997474747475\n",
      "CED @ 1cm: 0.0798\n"
     ]
    }
   ],
   "source": [
    "import trimesh\n",
    "import numpy as np\n",
    "from scipy.spatial import cKDTree\n",
    "from sklearn.metrics import auc\n",
    "\n",
    "# Load meshes\n",
    "def load_mesh(file_path):\n",
    "    return trimesh.load_mesh(file_path)\n",
    "\n",
    "# Extract point cloud from mesh (sampling points on the surface)\n",
    "def get_point_cloud(mesh, num_points=10000):\n",
    "    return mesh.sample(num_points)\n",
    "\n",
    "# Compute P2S distances between two point clouds\n",
    "def compute_p2s_distances(gt_points, pred_points):\n",
    "    gt_tree = cKDTree(gt_points)\n",
    "    distances, _ = gt_tree.query(pred_points)\n",
    "    return distances\n",
    "\n",
    "# Compute the CED and AUC\n",
    "def compute_ced_auc(distances, thresholds=np.linspace(0, 0.05, 100)):\n",
    "    cumulative = np.array([(distances < t).sum() / len(distances) for t in thresholds])\n",
    "    return cumulative\n",
    "\n",
    "def ced_at_threshold(distances, threshold=0.01):\n",
    "    return np.mean(distances < threshold)\n",
    "\n",
    "# Load your ground truth and reconstructed meshes\n",
    "gt_mesh = trimesh.load('../assets/pifuhd_results/result_female-1-casual-frame_0016_real_B_512.obj')\n",
    "pred_mesh = trimesh.load('../assets/pifuhd_results/result_female-1-casual-frame_0016_fake_B_512.obj')\n",
    "\n",
    "# Extract point clouds (we'll sample 10000 points for this example)\n",
    "gt_points = get_point_cloud(gt_mesh, num_points=10000)\n",
    "pred_points = get_point_cloud(pred_mesh, num_points=10000)\n",
    "\n",
    "# Compute P2S distances\n",
    "distances = compute_p2s_distances(gt_points, pred_points)\n",
    "\n",
    "# Compute CED curve\n",
    "ced_curve = compute_ced_auc(distances)\n",
    "\n",
    "# Optionally, compute AUC (Area Under CED Curve)\n",
    "ced_auc = auc(np.linspace(0, 0.05, 100), ced_curve)\n",
    "print(f\"AUC-CED: {ced_auc}\")\n",
    "\n",
    "# Calculate CED @ 1cm\n",
    "recall_at_1cm = ced_at_threshold(distances, 0.01)\n",
    "print(f\"CED @ 1cm: {recall_at_1cm}\")\n"
   ]
  },
  {
   "cell_type": "code",
   "execution_count": 12,
   "id": "687f98c5",
   "metadata": {},
   "outputs": [
    {
     "name": "stdout",
     "output_type": "stream",
     "text": [
      "Chamfer Distance: 0.380847760338351\n"
     ]
    }
   ],
   "source": [
    "import trimesh\n",
    "import numpy as np\n",
    "from scipy.spatial import cKDTree\n",
    "\n",
    "# Load meshes\n",
    "def load_mesh(file_path):\n",
    "    return trimesh.load_mesh(file_path)\n",
    "\n",
    "# Extract point cloud from mesh (sampling points on the surface)\n",
    "def get_point_cloud(mesh, num_points=10000):\n",
    "    return mesh.sample(num_points)\n",
    "\n",
    "# Compute Chamfer Distance between two point clouds\n",
    "def chamfer_distance(gt_points, pred_points):\n",
    "    # Build KDTree for both point clouds\n",
    "    gt_tree = cKDTree(gt_points)\n",
    "    pred_tree = cKDTree(pred_points)\n",
    "    \n",
    "    # Find closest point in the ground truth for each predicted point\n",
    "    dist_pred_to_gt, _ = pred_tree.query(gt_points)\n",
    "    \n",
    "    # Find closest point in the predicted for each ground truth point\n",
    "    dist_gt_to_pred, _ = gt_tree.query(pred_points)\n",
    "    \n",
    "    # Compute Chamfer distance\n",
    "    chamfer_dist = np.mean(dist_pred_to_gt) + np.mean(dist_gt_to_pred)\n",
    "    return chamfer_dist\n",
    "\n",
    "# Load your ground truth and reconstructed meshes\n",
    "gt_mesh = trimesh.load('../assets/pifuhd_results/result_female-1-casual-frame_0016_real_B_512.obj')\n",
    "pred_mesh = trimesh.load('../assets/pifuhd_results/result_female-1-casual-frame_0016_fake_B_512.obj')\n",
    "\n",
    "# Extract point clouds (we'll sample 10000 points for this example)\n",
    "gt_points = get_point_cloud(gt_mesh, num_points=1000)\n",
    "pred_points = get_point_cloud(pred_mesh, num_points=1000)\n",
    "\n",
    "# Compute Chamfer distance\n",
    "chamfer_dist = chamfer_distance(gt_points, pred_points)\n",
    "print(f\"Chamfer Distance: {chamfer_dist}\")\n"
   ]
  }
 ],
 "metadata": {
  "kernelspec": {
   "display_name": "Python 3",
   "language": "python",
   "name": "python3"
  },
  "language_info": {
   "codemirror_mode": {
    "name": "ipython",
    "version": 3
   },
   "file_extension": ".py",
   "mimetype": "text/x-python",
   "name": "python",
   "nbconvert_exporter": "python",
   "pygments_lexer": "ipython3",
   "version": "3.11.7"
  }
 },
 "nbformat": 4,
 "nbformat_minor": 5
}
